{
 "cells": [
  {
   "cell_type": "markdown",
   "metadata": {},
   "source": [
    "# The Riemann Problem for Hyperbolic PDEs: Theory and Approximate Solvers\n",
    "\n",
    "### by David I. Ketcheson, Randall J. LeVeque, and Mauricio del Razo Sarmina\n",
    "\n",
    "The Github repository containing these notebooks is https://github.com/clawpack/riemann_book\n",
    "\n",
    "## Contents\n",
    "\n",
    " - [Preface](Preface.html). Describes the aims and goals, and different ways to use the notebooks.\n",
    " \n",
    "## Part I: The Riemann problem and its solution\n",
    "\n",
    "  0. [Introduction](Introduction.html). Introduces basic ideas with some sample solutions.\n",
    "  1. [Advection](Advection.html)\n",
    "  2. [Acoustics](Acoustics.html)\n",
    "  3. [Traffic flow](Traffic_flow.html)\n",
    "  4. Burgers' equation\n",
    "  5. [Shallow water waves](Shallow_water.html)\n",
    "  7. [Shallow water with a tracer](Shallow_tracer.html)*[Needs work!]*\n",
    "  8. [Euler equatios of compressible gas dynamics](Euler_equations.html)\n",
    "  \n",
    "## Part II: Approximate solvers\n",
    "\n",
    "  0. [Approximate_solvers](Approximate_solvers.html). Introduction to two basic types of approximations.\n",
    "  1. [Euler approximate solvers](Euler_approximate_solvers.html). *[Needs work!]*\n",
    "  2. More to come.\n",
    "\n",
    "## Part III: Riemann problems with spatially-varying flux\n",
    "  1. Advection\n",
    "  2. [Acoustics in heterogeneous media](Acoustics_heterogeneous.ipynb)\n",
    "  3. [Traffic with varying road conditions](Traffic_variable_speed.html)\n",
    "  4. [Nonlinear elasticity in a heterogeneous medium](Nonlinear_elasticity.html)\n",
    "  5. Ideal gas shock tube with different ratio of specific heats\n",
    "  6. [Euler equations with Tammann equation of state](Euler_equations_TammannEOS.html)\n",
    "  \n",
    "## Part IV: Source terms\n",
    " \n",
    "## Part V: Non-classical problems\n",
    "  1. [Nonconvex flux for a scalar problem](Nonconvex_scalar.html)\n",
    "  2. [Pressureless flow](Pressureless_flow.html)\n",
    " \n",
    "## Part VI: Multidimensional systems\n",
    "  1. [Acoustics](http://nbviewer.jupyter.org/github/maojrs/ipynotebooks/blob/master/acoustics_riemann.ipynb) *[To be improved and incorporated into this project]*\n",
    "  2. [Elasticity](http://nbviewer.jupyter.org/github/maojrs/ipynotebooks/blob/master/elasticity_riemann.ipynb) *[To be improved and incorporated into this project]*\n",
    "  3. [The Kitchen Sink: shallow water in cylindrical coordinates](Kitchen_sink_problem.html)"
   ]
  }
 ],
 "metadata": {
  "kernelspec": {
   "display_name": "Python 2",
   "language": "python",
   "name": "python2"
  },
  "language_info": {
   "codemirror_mode": {
    "name": "ipython",
    "version": 3
   },
   "file_extension": ".py",
   "mimetype": "text/x-python",
   "name": "python",
   "nbconvert_exporter": "python",
   "pygments_lexer": "ipython3",
   "version": "3.5.2"
  }
 },
 "nbformat": 4,
 "nbformat_minor": 1
}
